{
 "metadata": {
  "language_info": {
   "codemirror_mode": {
    "name": "ipython",
    "version": 3
   },
   "file_extension": ".py",
   "mimetype": "text/x-python",
   "name": "python",
   "nbconvert_exporter": "python",
   "pygments_lexer": "ipython3",
   "version": "3.8.5-final"
  },
  "orig_nbformat": 2,
  "kernelspec": {
   "name": "python3",
   "display_name": "Python 3",
   "language": "python"
  }
 },
 "nbformat": 4,
 "nbformat_minor": 2,
 "cells": [
  {
   "source": [
    "RNN architectures exploration"
   ],
   "cell_type": "markdown",
   "metadata": {}
  },
  {
   "cell_type": "code",
   "execution_count": 1,
   "metadata": {},
   "outputs": [],
   "source": [
    "import torch\n",
    "from utils import count_params\n",
    "from rnns import RNN, GRU, LSTM, BLSTM"
   ]
  },
  {
   "cell_type": "code",
   "execution_count": 2,
   "metadata": {},
   "outputs": [
    {
     "output_type": "execute_result",
     "data": {
      "text/plain": [
       "207370"
      ]
     },
     "metadata": {},
     "execution_count": 2
    }
   ],
   "source": [
    "rnn = RNN(28, 256, 2)\n",
    "count_params(rnn)"
   ]
  },
  {
   "cell_type": "code",
   "execution_count": 3,
   "metadata": {},
   "outputs": [
    {
     "output_type": "execute_result",
     "data": {
      "text/plain": [
       "torch.Size([4, 10])"
      ]
     },
     "metadata": {},
     "execution_count": 3
    }
   ],
   "source": [
    "rnn(torch.rand(4, 1, 28, 28).squeeze(1)).shape"
   ]
  },
  {
   "cell_type": "code",
   "execution_count": 4,
   "metadata": {},
   "outputs": [
    {
     "output_type": "stream",
     "name": "stdout",
     "text": [
      "torch.Size([256, 28]) : rnn.weight_ih_l0\ntorch.Size([256, 256]) : rnn.weight_hh_l0\ntorch.Size([256]) : rnn.bias_ih_l0\ntorch.Size([256]) : rnn.bias_hh_l0\ntorch.Size([256, 256]) : rnn.weight_ih_l1\ntorch.Size([256, 256]) : rnn.weight_hh_l1\ntorch.Size([256]) : rnn.bias_ih_l1\ntorch.Size([256]) : rnn.bias_hh_l1\ntorch.Size([10, 256]) : fc.weight\ntorch.Size([10]) : fc.bias\n"
     ]
    }
   ],
   "source": [
    "for name, param in rnn.named_parameters():\n",
    "    print(f'{param.size()} : {name}')"
   ]
  },
  {
   "cell_type": "code",
   "execution_count": 5,
   "metadata": {},
   "outputs": [
    {
     "output_type": "execute_result",
     "data": {
      "text/plain": [
       "616970"
      ]
     },
     "metadata": {},
     "execution_count": 5
    }
   ],
   "source": [
    "gru = GRU(28, 256, 2)\n",
    "count_params(gru)"
   ]
  },
  {
   "cell_type": "code",
   "execution_count": 6,
   "metadata": {},
   "outputs": [
    {
     "output_type": "execute_result",
     "data": {
      "text/plain": [
       "torch.Size([4, 10])"
      ]
     },
     "metadata": {},
     "execution_count": 6
    }
   ],
   "source": [
    "gru(torch.rand(4, 1, 28, 28).squeeze(1)).shape"
   ]
  },
  {
   "cell_type": "code",
   "execution_count": 7,
   "metadata": {
    "tags": []
   },
   "outputs": [
    {
     "output_type": "stream",
     "name": "stdout",
     "text": [
      "torch.Size([768, 28]) : gru.weight_ih_l0\ntorch.Size([768, 256]) : gru.weight_hh_l0\ntorch.Size([768]) : gru.bias_ih_l0\ntorch.Size([768]) : gru.bias_hh_l0\ntorch.Size([768, 256]) : gru.weight_ih_l1\ntorch.Size([768, 256]) : gru.weight_hh_l1\ntorch.Size([768]) : gru.bias_ih_l1\ntorch.Size([768]) : gru.bias_hh_l1\ntorch.Size([10, 256]) : fc.weight\ntorch.Size([10]) : fc.bias\n"
     ]
    }
   ],
   "source": [
    "for name, param in gru.named_parameters():\n",
    "    print(f'{param.size()} : {name}')"
   ]
  },
  {
   "cell_type": "code",
   "execution_count": 8,
   "metadata": {},
   "outputs": [
    {
     "output_type": "execute_result",
     "data": {
      "text/plain": [
       "821770"
      ]
     },
     "metadata": {},
     "execution_count": 8
    }
   ],
   "source": [
    "lstm = LSTM(28, 256, 2)\n",
    "count_params(lstm)"
   ]
  },
  {
   "cell_type": "code",
   "execution_count": 9,
   "metadata": {},
   "outputs": [
    {
     "output_type": "execute_result",
     "data": {
      "text/plain": [
       "torch.Size([4, 10])"
      ]
     },
     "metadata": {},
     "execution_count": 9
    }
   ],
   "source": [
    "lstm(torch.rand(4, 1, 28, 28).squeeze(1)).shape"
   ]
  },
  {
   "cell_type": "code",
   "execution_count": 10,
   "metadata": {},
   "outputs": [
    {
     "output_type": "stream",
     "name": "stdout",
     "text": [
      "torch.Size([1024, 28]) : lstm.weight_ih_l0\ntorch.Size([1024, 256]) : lstm.weight_hh_l0\ntorch.Size([1024]) : lstm.bias_ih_l0\ntorch.Size([1024]) : lstm.bias_hh_l0\ntorch.Size([1024, 256]) : lstm.weight_ih_l1\ntorch.Size([1024, 256]) : lstm.weight_hh_l1\ntorch.Size([1024]) : lstm.bias_ih_l1\ntorch.Size([1024]) : lstm.bias_hh_l1\ntorch.Size([10, 256]) : fc.weight\ntorch.Size([10]) : fc.bias\n"
     ]
    }
   ],
   "source": [
    "for name, param in lstm.named_parameters():\n",
    "    print(f'{param.size()} : {name}')"
   ]
  },
  {
   "cell_type": "code",
   "execution_count": 11,
   "metadata": {},
   "outputs": [
    {
     "output_type": "execute_result",
     "data": {
      "text/plain": [
       "2167818"
      ]
     },
     "metadata": {},
     "execution_count": 11
    }
   ],
   "source": [
    "blstm = BLSTM(28, 256, 2)\n",
    "count_params(blstm)"
   ]
  },
  {
   "cell_type": "code",
   "execution_count": 12,
   "metadata": {},
   "outputs": [
    {
     "output_type": "execute_result",
     "data": {
      "text/plain": [
       "torch.Size([4, 10])"
      ]
     },
     "metadata": {},
     "execution_count": 12
    }
   ],
   "source": [
    "blstm(torch.rand(4, 1, 28, 28).squeeze(1)).shape"
   ]
  },
  {
   "cell_type": "code",
   "execution_count": 13,
   "metadata": {},
   "outputs": [
    {
     "output_type": "stream",
     "name": "stdout",
     "text": [
      "torch.Size([1024, 28]) : lstm.weight_ih_l0\ntorch.Size([1024, 256]) : lstm.weight_hh_l0\ntorch.Size([1024]) : lstm.bias_ih_l0\ntorch.Size([1024]) : lstm.bias_hh_l0\ntorch.Size([1024, 28]) : lstm.weight_ih_l0_reverse\ntorch.Size([1024, 256]) : lstm.weight_hh_l0_reverse\ntorch.Size([1024]) : lstm.bias_ih_l0_reverse\ntorch.Size([1024]) : lstm.bias_hh_l0_reverse\ntorch.Size([1024, 512]) : lstm.weight_ih_l1\ntorch.Size([1024, 256]) : lstm.weight_hh_l1\ntorch.Size([1024]) : lstm.bias_ih_l1\ntorch.Size([1024]) : lstm.bias_hh_l1\ntorch.Size([1024, 512]) : lstm.weight_ih_l1_reverse\ntorch.Size([1024, 256]) : lstm.weight_hh_l1_reverse\ntorch.Size([1024]) : lstm.bias_ih_l1_reverse\ntorch.Size([1024]) : lstm.bias_hh_l1_reverse\ntorch.Size([10, 512]) : fc.weight\ntorch.Size([10]) : fc.bias\n"
     ]
    }
   ],
   "source": [
    "for name, param in blstm.named_parameters():\n",
    "    print(f'{param.size()} : {name}')"
   ]
  }
 ]
}