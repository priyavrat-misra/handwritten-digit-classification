{
  "nbformat": 4,
  "nbformat_minor": 0,
  "metadata": {
    "orig_nbformat": 2,
    "colab": {
      "name": "train_with_rnns.ipynb",
      "provenance": []
    },
    "accelerator": "GPU",
    "kernelspec": {
      "name": "python3",
      "display_name": "Python 3"
    }
  },
  "cells": [
    {
      "cell_type": "code",
      "metadata": {
        "id": "Ei0eCXMQwnHz"
      },
      "source": [
        "# import libraries\n",
        "import torch\n",
        "import torch.nn as nn\n",
        "import torch.optim as optim\n",
        "\n",
        "import torchvision\n",
        "import torchvision.transforms as transforms\n",
        "\n",
        "from tqdm import tqdm\n",
        "from collections import OrderedDict\n",
        "from torch.utils.tensorboard import SummaryWriter\n",
        "from utils import device, get_num_correct, RunBuilder\n",
        "from rnns import RNN, GRU, LSTM, BLSTM"
      ],
      "execution_count": 1,
      "outputs": []
    },
    {
      "cell_type": "code",
      "metadata": {
        "id": "7T_jEYxMwnIB"
      },
      "source": [
        "# declare hyperparameters\n",
        "lr = 0.001\n",
        "batch_size = 64\n",
        "input_size = 28\n",
        "hidden_size = 256\n",
        "num_layers = 2\n",
        "num_epochs = 8"
      ],
      "execution_count": 2,
      "outputs": []
    },
    {
      "cell_type": "code",
      "metadata": {
        "id": "cmIHKE21wnID"
      },
      "source": [
        "# extract and transform the data\n",
        "train_set = torchvision.datasets.MNIST(\n",
        "    root='./data/',\n",
        "    train=True,\n",
        "    download=True,\n",
        "    transform=transforms.ToTensor()\n",
        ")\n",
        "test_set = torchvision.datasets.MNIST(\n",
        "    root='./data/',\n",
        "    train=False,\n",
        "    download=True,\n",
        "    transform=transforms.ToTensor()\n",
        ")\n",
        "# prepare the data loaders\n",
        "train_loader = torch.utils.data.DataLoader(train_set, batch_size=batch_size, shuffle=True, num_workers=1)\n",
        "test_loader = torch.utils.data.DataLoader(test_set, batch_size=batch_size, num_workers=1)"
      ],
      "execution_count": 3,
      "outputs": []
    },
    {
      "cell_type": "code",
      "metadata": {
        "id": "8rldTQXpwnIE"
      },
      "source": [
        "# make an OrderedDict of RNNs\n",
        "runs = OrderedDict(\n",
        "    models = [\n",
        "        RNN(input_size, hidden_size, num_layers),\n",
        "        GRU(input_size, hidden_size, num_layers),\n",
        "        LSTM(input_size, hidden_size, num_layers),\n",
        "        BLSTM(input_size, hidden_size, num_layers)\n",
        "    ]\n",
        ")"
      ],
      "execution_count": 4,
      "outputs": []
    },
    {
      "cell_type": "code",
      "metadata": {
        "id": "knSKZ6DkwnIF"
      },
      "source": [
        "# loss function (categorical cross-entropy)\n",
        "criterion = nn.CrossEntropyLoss()\n",
        "\n",
        "# iterate models in runs and train\n",
        "for run in RunBuilder.get_runs(runs):\n",
        "    model = run.models.to(device)\n",
        "    optimizer = optim.Adam(model.parameters(), lr=lr)\n",
        "\n",
        "    net = type(model).__name__\n",
        "    comment = f'-{net}'\n",
        "    tb = SummaryWriter(comment=comment)\n",
        "\n",
        "    for epoch in range(num_epochs):\n",
        "        train_loss, train_correct = 0, 0\n",
        "\n",
        "        model.train()\n",
        "        train_loop = tqdm(train_loader)\n",
        "        for batch in train_loop:\n",
        "            images, labels = batch[0].squeeze(1).to(device), batch[1].to(device)\n",
        "            preds = model(images)\n",
        "            loss = criterion(preds, labels)\n",
        "            optimizer.zero_grad()\n",
        "            loss.backward()\n",
        "            optimizer.step()\n",
        "\n",
        "            train_loss += loss.item() * labels.size(0)\n",
        "            train_correct += get_num_correct(preds, labels)\n",
        "\n",
        "            train_loop.set_description(f'{net:6s}Epoch [{epoch+1:2d}/{num_epochs}]')\n",
        "            train_loop.set_postfix(loss=train_loss, acc=train_correct/len(train_set))\n",
        "\n",
        "\n",
        "        tb.add_scalar('Train Loss', train_loss, epoch)\n",
        "        tb.add_scalar('Train Accuracy', train_correct/len(train_set), epoch)\n",
        "        \n",
        "\n",
        "        model.eval()\n",
        "        with torch.no_grad():\n",
        "            test_loss, test_correct = 0, 0\n",
        "\n",
        "            for batch in test_loader:\n",
        "                images, labels = batch[0].squeeze(1).to(device), batch[1].to(device)\n",
        "                preds = model(images)\n",
        "                loss = criterion(preds, labels)\n",
        "\n",
        "                test_loss += loss.item() * labels.size(0)\n",
        "                test_correct += get_num_correct(preds, labels)\n",
        "\n",
        "            tb.add_scalar('Test Loss', test_loss, epoch)\n",
        "            tb.add_scalar('Test Accuracy', test_correct / len(test_set), epoch)\n",
        "\n",
        "\n",
        "        for name, weight in model.named_parameters():\n",
        "            tb.add_histogram(name, weight, epoch)\n",
        "            tb.add_histogram(f'{name}.grad', weight.grad, epoch)\n",
        "\n",
        "    torch.save(model.state_dict(), f'./models/with_rnns/model{comment}.ckpt')"
      ],
      "execution_count": null,
      "outputs": []
    }
  ]
}