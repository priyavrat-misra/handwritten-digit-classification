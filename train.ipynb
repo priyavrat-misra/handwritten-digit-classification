{
 "metadata": {
  "language_info": {
   "codemirror_mode": {
    "name": "ipython",
    "version": 3
   },
   "file_extension": ".py",
   "mimetype": "text/x-python",
   "name": "python",
   "nbconvert_exporter": "python",
   "pygments_lexer": "ipython3",
   "version": "3.8.5-final"
  },
  "orig_nbformat": 2,
  "kernelspec": {
   "name": "python3",
   "display_name": "Python 3"
  }
 },
 "nbformat": 4,
 "nbformat_minor": 2,
 "cells": [
  {
   "cell_type": "code",
   "execution_count": null,
   "metadata": {},
   "outputs": [],
   "source": [
    "import torch\n",
    "import torch.nn as nn\n",
    "import torch.optim as optim\n",
    "\n",
    "import torchvision\n",
    "import torchvision.transforms as transforms\n",
    "\n",
    "from torch.utils.tensorboard import SummaryWriter\n",
    "from utils import device, get_num_correct, RunBuilder\n",
    "from network import Network"
   ]
  },
  {
   "cell_type": "code",
   "execution_count": null,
   "metadata": {},
   "outputs": [],
   "source": [
    "train_set = torchvision.datasets.MNIST(\n",
    "    root='./data/',\n",
    "    train=True,\n",
    "    download=True,\n",
    "    transform=transforms.ToTensor()\n",
    ")\n",
    "test_set = torchvision.datasets.MNIST(\n",
    "    root='./data/',\n",
    "    train=False,\n",
    "    download=True,\n",
    "    transform=transforms.ToTensor()\n",
    ")\n",
    "test_loader = torch.utils.data.DataLoader(test_set, batch_size=1000)"
   ]
  },
  {
   "cell_type": "code",
   "execution_count": null,
   "metadata": {},
   "outputs": [],
   "source": [
    "from collections import OrderedDict\n",
    "\n",
    "params = OrderedDict(\n",
    "    lr = [0.01, 0.003, 0.001, 0.0003],\n",
    "    batch_size = [256, 512]\n",
    ")"
   ]
  },
  {
   "cell_type": "code",
   "execution_count": null,
   "metadata": {},
   "outputs": [],
   "source": [
    "criterion = nn.CrossEntropyLoss()\n",
    "\n",
    "for run in RunBuilder.get_runs(params):\n",
    "    network = Network().to(device)\n",
    "    train_loader = torch.utils.data.DataLoader(train_set, batch_size=run.batch_size, shuffle=True, num_workers=1)\n",
    "    optimizer = optim.Adam(network.parameters(), lr=run.lr)\n",
    "\n",
    "    comment = f'-{run}'\n",
    "    tb = SummaryWriter(comment=comment)\n",
    "\n",
    "    for epoch in range(4):\n",
    "\n",
    "        train_loss = 0\n",
    "        train_correct = 0\n",
    "\n",
    "        network.train()\n",
    "        for batch in train_loader:\n",
    "            images, labels = batch[0].to(device), batch[1].to(device)\n",
    "            preds = network(images)\n",
    "            loss = criterion(preds, labels)\n",
    "            optimizer.zero_grad()\n",
    "            loss.backward()\n",
    "            optimizer.step()\n",
    "\n",
    "            train_loss += loss.item() * run.batch_size\n",
    "            train_correct += get_num_correct(preds, labels)\n",
    "\n",
    "        tb.add_scalar('Train Loss', train_loss, epoch)\n",
    "        tb.add_scalar('Train Accuracy', train_correct / len(train_set), epoch)\n",
    "\n",
    "        network.eval()\n",
    "        with torch.no_grad():\n",
    "            test_loss = 0\n",
    "            test_correct = 0\n",
    "            for batch in test_loader:\n",
    "                images, labels = batch[0].to(device), batch[1].to(device)\n",
    "                preds = network(images)\n",
    "                loss = criterion(preds, labels)\n",
    "\n",
    "                test_loss += loss.item() * 1000  # '1000' here represents batch size of test_set\n",
    "                test_correct += get_num_correct(preds, labels)\n",
    "\n",
    "            tb.add_scalar('Test Loss', test_loss, epoch)\n",
    "            tb.add_scalar('Test Accuracy', test_correct / len(test_set), epoch)\n",
    "\n",
    "\n",
    "        for name, weight in network.named_parameters():\n",
    "            tb.add_histogram(name, weight, epoch)\n",
    "            tb.add_histogram(f'{name}.grad', weight.grad, epoch) \n",
    "\n",
    "\n",
    "    torch.save(network.state_dict(), f'./models/model-{run}.ckpt')"
   ]
  }
 ]
}